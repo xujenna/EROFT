{
 "cells": [
  {
   "cell_type": "code",
   "execution_count": 1,
   "metadata": {
    "collapsed": true
   },
   "outputs": [],
   "source": [
    "from numpy import loadtxt\n",
    "import matplotlib.pyplot as plt\n",
    "import numpy as np"
   ]
  },
  {
   "cell_type": "code",
   "execution_count": 29,
   "metadata": {},
   "outputs": [
    {
     "name": "stdout",
     "output_type": "stream",
     "text": [
      "3057\n"
     ]
    },
    {
     "data": {
      "text/plain": [
       "(array([578., 397., 340., 649., 282., 256., 340., 114.,  49.,  52.]),\n",
       " array([ 0. ,  1.3,  2.6,  3.9,  5.2,  6.5,  7.8,  9.1, 10.4, 11.7, 13. ]),\n",
       " <a list of 10 Patch objects>)"
      ]
     },
     "execution_count": 29,
     "metadata": {},
     "output_type": "execute_result"
    },
    {
     "data": {
      "image/png": "[encoded data removed]",
      "text/plain": [
       "<matplotlib.figure.Figure at 0x111bded30>"
      ]
     },
     "metadata": {},
     "output_type": "display_data"
    }
   ],
   "source": [
    "lines = list(loadtxt(\"readings.txt\", delimiter=\"\\n\", unpack=False))\n",
    "nums = []\n",
    "\n",
    "for line in lines:\n",
    "    chars = list(repr(line))\n",
    "    num = int(chars[0]) - int(chars[1]) - int(chars[2])\n",
    "    nums.append(abs(num))\n",
    "\n",
    "%matplotlib inline\n",
    "print(len(nums))\n",
    "plt.hist(nums)"
   ]
  },
  {
   "cell_type": "code",
   "execution_count": 30,
   "metadata": {},
   "outputs": [
    {
     "name": "stdout",
     "output_type": "stream",
     "text": [
      "3057\n"
     ]
    },
    {
     "data": {
      "text/plain": [
       "(array([300., 231., 561., 265., 349., 547., 250., 381., 107.,  66.]),\n",
       " array([ 0. ,  1.4,  2.8,  4.2,  5.6,  7. ,  8.4,  9.8, 11.2, 12.6, 14. ]),\n",
       " <a list of 10 Patch objects>)"
      ]
     },
     "execution_count": 30,
     "metadata": {},
     "output_type": "execute_result"
    },
    {
     "data": {
      "image/png": "[encoded data removed]",
      "text/plain": [
       "<matplotlib.figure.Figure at 0x111591f60>"
      ]
     },
     "metadata": {},
     "output_type": "display_data"
    }
   ],
   "source": [
    "nums2 = []\n",
    "\n",
    "for line in lines:\n",
    "    chars = list(repr(line))\n",
    "    num = int(chars[2]) - int(chars[1]) - int(chars[0])\n",
    "    nums2.append(abs(num))\n",
    "\n",
    "%matplotlib inline\n",
    "print(len(nums2))\n",
    "plt.hist(nums2)"
   ]
  },
  {
   "cell_type": "code",
   "execution_count": 100,
   "metadata": {},
   "outputs": [
    {
     "name": "stdout",
     "output_type": "stream",
     "text": [
      "5941\n"
     ]
    },
    {
     "data": {
      "text/plain": [
       "(array([ 286., 2910.,  580.,  310.,  332.,  308.,  323.,  300.,  305.,\n",
       "         287.]),\n",
       " array([0. , 0.9, 1.8, 2.7, 3.6, 4.5, 5.4, 6.3, 7.2, 8.1, 9. ]),\n",
       " <a list of 10 Patch objects>)"
      ]
     },
     "execution_count": 100,
     "metadata": {},
     "output_type": "execute_result"
    },
    {
     "data": {
      "image/png": "[encoded data removed]",
      "text/plain": [
       "<matplotlib.figure.Figure at 0x115205208>"
      ]
     },
     "metadata": {},
     "output_type": "display_data"
    }
   ],
   "source": [
    "nums3 = []\n",
    "\n",
    "for line in lines:\n",
    "    chars = list(repr(line))\n",
    "    num = int(chars[2]) + int(chars[1]) + int(chars[0])\n",
    "    for d in [int(d) for d in str(num)]:\n",
    "        nums3.append(abs(d))\n",
    "\n",
    "%matplotlib inline\n",
    "print(len(nums3))\n",
    "plt.hist(nums3)"
   ]
  },
  {
   "cell_type": "code",
   "execution_count": 101,
   "metadata": {},
   "outputs": [
    {
     "name": "stdout",
     "output_type": "stream",
     "text": [
      "9171\n"
     ]
    },
    {
     "data": {
      "text/plain": [
       "(array([ 463.,  448.,  499.,  552.,  641., 2861., 2146.,  585.,  528.,\n",
       "         448.]),\n",
       " array([0. , 0.9, 1.8, 2.7, 3.6, 4.5, 5.4, 6.3, 7.2, 8.1, 9. ]),\n",
       " <a list of 10 Patch objects>)"
      ]
     },
     "execution_count": 101,
     "metadata": {},
     "output_type": "execute_result"
    },
    {
     "data": {
      "image/png": "[encoded data removed]",
      "text/plain": [
       "<matplotlib.figure.Figure at 0x1152afb00>"
      ]
     },
     "metadata": {},
     "output_type": "display_data"
    }
   ],
   "source": [
    "nums4 = []\n",
    "\n",
    "for line in lines:\n",
    "    chars = list(repr(int(line)))\n",
    "    for char in chars:\n",
    "        nums4.append(int(char))\n",
    "\n",
    "%matplotlib inline\n",
    "print(len(nums4))\n",
    "plt.hist(nums4)"
   ]
  },
  {
   "cell_type": "code",
   "execution_count": 102,
   "metadata": {},
   "outputs": [
    {
     "name": "stdout",
     "output_type": "stream",
     "text": [
      "7198\n"
     ]
    },
    {
     "data": {
      "text/plain": [
       "(array([2122., 1129., 1074.,  311.,  526.,  724.,  414.,  337.,  375.,\n",
       "         186.]),\n",
       " array([0. , 0.9, 1.8, 2.7, 3.6, 4.5, 5.4, 6.3, 7.2, 8.1, 9. ]),\n",
       " <a list of 10 Patch objects>)"
      ]
     },
     "execution_count": 102,
     "metadata": {},
     "output_type": "execute_result"
    },
    {
     "data": {
      "image/png": "[encoded data removed]",
      "text/plain": [
       "<matplotlib.figure.Figure at 0x1152af9e8>"
      ]
     },
     "metadata": {},
     "output_type": "display_data"
    }
   ],
   "source": [
    "nums5 = []\n",
    "\n",
    "for line in lines:\n",
    "    chars = list(repr(line))\n",
    "    num = int(chars[2]) * int(chars[1]) * int(chars[0])\n",
    "    nums = [int(d) for d in str(num)]\n",
    "    for num in nums:\n",
    "        nums5.append(abs(num))\n",
    "\n",
    "%matplotlib inline\n",
    "print(len(nums5))\n",
    "plt.hist(nums5)"
   ]
  },
  {
   "cell_type": "code",
   "execution_count": 103,
   "metadata": {},
   "outputs": [
    {
     "name": "stdout",
     "output_type": "stream",
     "text": [
      "16380\n"
     ]
    },
    {
     "data": {
      "text/plain": [
       "(array([ 463., 1537., 2861., 2146., 1612., 2861., 3315.,    0.,  448.,\n",
       "        1137.]),\n",
       " array([0. , 0.9, 1.8, 2.7, 3.6, 4.5, 5.4, 6.3, 7.2, 8.1, 9. ]),\n",
       " <a list of 10 Patch objects>)"
      ]
     },
     "execution_count": 103,
     "metadata": {},
     "output_type": "execute_result"
    },
    {
     "data": {
      "image/png": "[encoded data removed]",
      "text/plain": [
       "<matplotlib.figure.Figure at 0x1149db668>"
      ]
     },
     "metadata": {},
     "output_type": "display_data"
    }
   ],
   "source": [
    "nums6 = []\n",
    "\n",
    "for line in lines:\n",
    "    chars = list(repr(int(line)))\n",
    "    for char in chars:\n",
    "        square = int(char) * int(char)\n",
    "        for num in [int(d) for d in str(square)]:\n",
    "            nums6.append(num)\n",
    "\n",
    "%matplotlib inline\n",
    "print(len(nums6))\n",
    "plt.hist(nums6)\n",
    "\n",
    "# the digit 7 doesn't appear in squares until 24 is squared!"
   ]
  },
  {
   "cell_type": "code",
   "execution_count": 104,
   "metadata": {},
   "outputs": [
    {
     "name": "stdout",
     "output_type": "stream",
     "text": [
      "18340\n"
     ]
    },
    {
     "data": {
      "text/plain": [
       "(array([2343., 1867., 1882., 3227., 2770., 1008., 1912.,  680., 1029.,\n",
       "        1622.]),\n",
       " array([0. , 0.9, 1.8, 2.7, 3.6, 4.5, 5.4, 6.3, 7.2, 8.1, 9. ]),\n",
       " <a list of 10 Patch objects>)"
      ]
     },
     "execution_count": 104,
     "metadata": {},
     "output_type": "execute_result"
    },
    {
     "data": {
      "image/png": "[encoded data removed]",
      "text/plain": [
       "<matplotlib.figure.Figure at 0x115865e80>"
      ]
     },
     "metadata": {},
     "output_type": "display_data"
    }
   ],
   "source": [
    "nums7 = []\n",
    "\n",
    "for line in lines:\n",
    "    num = int(line) * int(line)\n",
    "    for d in [int(d) for d in str(num)]:\n",
    "        nums7.append(d)\n",
    "\n",
    "%matplotlib inline\n",
    "print(len(nums7))\n",
    "plt.hist(nums7)\n",
    "\n",
    "# still very few 7's..."
   ]
  },
  {
   "cell_type": "code",
   "execution_count": 105,
   "metadata": {},
   "outputs": [
    {
     "name": "stdout",
     "output_type": "stream",
     "text": [
      "47882\n"
     ]
    },
    {
     "data": {
      "text/plain": [
       "(array([4285., 5659., 4213., 4952., 5074., 4153., 4076., 4719., 4956.,\n",
       "        5795.]),\n",
       " array([0. , 0.9, 1.8, 2.7, 3.6, 4.5, 5.4, 6.3, 7.2, 8.1, 9. ]),\n",
       " <a list of 10 Patch objects>)"
      ]
     },
     "execution_count": 105,
     "metadata": {},
     "output_type": "execute_result"
    },
    {
     "data": {
      "image/png": "[encoded data removed]",
      "text/plain": [
       "<matplotlib.figure.Figure at 0x114f3de48>"
      ]
     },
     "metadata": {},
     "output_type": "display_data"
    }
   ],
   "source": [
    "import math\n",
    "\n",
    "nums8 = []\n",
    "\n",
    "for line in lines:\n",
    "    pow3 = int(line) * int(line) * int(line)\n",
    "    num = math.sqrt(pow3)\n",
    "    num = str(num).split(\".\")\n",
    "    num = int(num[0]) * int(num[1])\n",
    "    for d in [int(d) for d in str(num)]:\n",
    "        nums8.append(d)\n",
    "\n",
    "%matplotlib inline\n",
    "print(len(nums8))\n",
    "plt.hist(nums8)"
   ]
  },
  {
   "cell_type": "code",
   "execution_count": null,
   "metadata": {},
   "outputs": [],
   "source": []
  },
  {
   "cell_type": "code",
   "execution_count": 99,
   "metadata": {},
   "outputs": [
    {
     "name": "stdout",
     "output_type": "stream",
     "text": [
      "48899\n"
     ]
    },
    {
     "data": {
      "text/plain": [
       "(array([5021., 5397., 5230., 4606., 5130., 4916., 4816., 4617., 4734.,\n",
       "        4432.]),\n",
       " array([0. , 0.9, 1.8, 2.7, 3.6, 4.5, 5.4, 6.3, 7.2, 8.1, 9. ]),\n",
       " <a list of 10 Patch objects>)"
      ]
     },
     "execution_count": 99,
     "metadata": {},
     "output_type": "execute_result"
    },
    {
     "data": {
      "image/png": "[encoded data removed]",
      "text/plain": [
       "<matplotlib.figure.Figure at 0x11566a4a8>"
      ]
     },
     "metadata": {},
     "output_type": "display_data"
    }
   ],
   "source": [
    "nums9 = []\n",
    "num = 1\n",
    "\n",
    "for line in lines:\n",
    "    num = math.sqrt(num * line)\n",
    "    num = str(num).split(\".\")\n",
    "    num = int(num[0]) * int(num[1])\n",
    "    for d in [int(d) for d in str(int(num))]:\n",
    "        nums9.append(d)\n",
    "\n",
    "%matplotlib inline\n",
    "print(len(nums9))\n",
    "plt.hist(nums9)"
   ]
  },
  {
   "cell_type": "code",
   "execution_count": null,
   "metadata": {
    "collapsed": true
   },
   "outputs": [],
   "source": []
  }
 ],
 "metadata": {
  "kernelspec": {
   "display_name": "Python 3",
   "language": "python",
   "name": "python3"
  },
  "language_info": {
   "codemirror_mode": {
    "name": "ipython",
    "version": 3
   },
   "file_extension": ".py",
   "mimetype": "text/x-python",
   "name": "python",
   "nbconvert_exporter": "python",
   "pygments_lexer": "ipython3",
   "version": "3.6.1"
  }
 },
 "nbformat": 4,
 "nbformat_minor": 2
}
